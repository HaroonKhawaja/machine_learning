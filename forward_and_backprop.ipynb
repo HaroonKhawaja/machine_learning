{
 "cells": [
  {
   "cell_type": "markdown",
   "id": "ae0f9408",
   "metadata": {},
   "source": [
    "# Forward and Backprop Example Notebook"
   ]
  },
  {
   "cell_type": "markdown",
   "id": "6b48c186",
   "metadata": {},
   "source": [
    "## Forward Propagation"
   ]
  },
  {
   "cell_type": "code",
   "execution_count": 152,
   "id": "8c650301",
   "metadata": {},
   "outputs": [],
   "source": [
    "import math\n",
    "\n",
    "def sigmoid(x):\n",
    "    return 1 / (1 + math.exp(-x))\n",
    "\n",
    "def mse(target, output):\n",
    "    return (target - output) ** 2 / 2"
   ]
  },
  {
   "cell_type": "code",
   "execution_count": null,
   "id": "c968c901",
   "metadata": {},
   "outputs": [],
   "source": [
    "\n",
    "class Neuron:\n",
    "    def __init__(self, name, value=0, weights=[], activation_fn=sigmoid):\n",
    "        self.name = name\n",
    "        self.value = value\n",
    "        self.weights = weights\n",
    "        self.input_value = None\n",
    "        self.activation_fn = activation_fn\n",
    "    \n",
    "    def compute_input_value(self, inputs, bias=None):\n",
    "        if len(inputs) != len(self.weights):\n",
    "            raise ValueError('Incorrect input shape')\n",
    "        \n",
    "        input_sum = 0\n",
    "        for inp, w in zip(inputs, self.weights):\n",
    "            input_sum += inp.value * w\n",
    "        \n",
    "        if bias:\n",
    "            input_sum += bias.value * bias.weights[0]\n",
    "        \n",
    "        self.input_value = input_sum\n",
    "\n",
    "    def compute_output_value(self):\n",
    "        self.value = self.activation_fn(self.input_value)\n",
    "        \n",
    "\n",
    "    def compute_error(self, target):\n",
    "        self.target = target\n",
    "        self.error_value = mse(target, self.value)\n",
    "\n",
    "    def update_weights(self, gradients):\n",
    "        if len(inputs) != len(self.weights):\n",
    "        raise ValueError('Number of gradients do not match the number of weights')\n",
    "\n"
   ]
  },
  {
   "cell_type": "code",
   "execution_count": 154,
   "id": "5c9c4ffb",
   "metadata": {},
   "outputs": [],
   "source": [
    "x1 = Neuron('input_1', value=0.05)\n",
    "x2 = Neuron('input_2', value=0.10)\n",
    "\n",
    "h1 = Neuron('h1', weights=[0.15, 0.20])\n",
    "h2 = Neuron('h2', weights=[0.25, 0.30])\n",
    "\n",
    "o1 = Neuron('o1', weights=[0.40, 0.45])\n",
    "o2 = Neuron('o2', weights=[0.50, 0.55])\n",
    "\n",
    "b1 = Neuron('b1', value=1, weights=[0.35])\n",
    "b2 = Neuron('b2', value=1, weights=[0.60])"
   ]
  },
  {
   "cell_type": "code",
   "execution_count": 155,
   "id": "08c02631",
   "metadata": {},
   "outputs": [
    {
     "name": "stdout",
     "output_type": "stream",
     "text": [
      "h1.input_value = 0.3775\n",
      "h2.input_value = 0.39249999999999996\n"
     ]
    }
   ],
   "source": [
    "h1.compute_input_value([x1, x2], bias=b1)\n",
    "h2.compute_input_value([x1, x2], bias=b1)\n",
    "print(f\"{h1.input_value = }\")\n",
    "print(f\"{h2.input_value = }\")"
   ]
  },
  {
   "cell_type": "code",
   "execution_count": 156,
   "id": "b42a55dc",
   "metadata": {},
   "outputs": [
    {
     "name": "stdout",
     "output_type": "stream",
     "text": [
      "h1.value = 0.5932699921071872\n",
      "h2.value = 0.596884378259767\n"
     ]
    }
   ],
   "source": [
    "h1.compute_output_value()\n",
    "h2.compute_output_value()\n",
    "print(f\"{h1.value = }\")\n",
    "print(f\"{h2.value = }\")"
   ]
  },
  {
   "cell_type": "code",
   "execution_count": 157,
   "id": "252f78a7",
   "metadata": {},
   "outputs": [
    {
     "name": "stdout",
     "output_type": "stream",
     "text": [
      "o1.input_value = 1.10590596705977\n",
      "o2.input_value = 1.2249214040964653\n"
     ]
    }
   ],
   "source": [
    "o1.compute_input_value([h1, h2], bias=b2)\n",
    "o2.compute_input_value([h1, h2], bias=b2)\n",
    "print(f\"{o1.input_value = }\")\n",
    "print(f\"{o2.input_value = }\")"
   ]
  },
  {
   "cell_type": "code",
   "execution_count": 158,
   "id": "cc02f4dc",
   "metadata": {},
   "outputs": [
    {
     "name": "stdout",
     "output_type": "stream",
     "text": [
      "o1.value = 0.7513650695523157\n",
      "o2.value = 0.7729284653214625\n"
     ]
    }
   ],
   "source": [
    "o1.compute_output_value()\n",
    "o2.compute_output_value()\n",
    "print(f\"{o1.value = }\")\n",
    "print(f\"{o2.value = }\")"
   ]
  },
  {
   "cell_type": "code",
   "execution_count": 159,
   "id": "b6cb3458",
   "metadata": {},
   "outputs": [
    {
     "name": "stdout",
     "output_type": "stream",
     "text": [
      "o1.error_value = 0.274811083176155\n",
      "o2.error_value = 0.023560025583847746\n"
     ]
    }
   ],
   "source": [
    "o1.compute_error(0.01)\n",
    "o2.compute_error(0.99)\n",
    "print(f\"{o1.error_value = }\")\n",
    "print(f\"{o2.error_value = }\")"
   ]
  },
  {
   "cell_type": "code",
   "execution_count": 160,
   "id": "1e349798",
   "metadata": {},
   "outputs": [
    {
     "name": "stdout",
     "output_type": "stream",
     "text": [
      "total_error = 0.2983711087600027\n"
     ]
    }
   ],
   "source": [
    "total_error = o1.error_value + o2.error_value\n",
    "print(f\"{total_error = }\")"
   ]
  },
  {
   "cell_type": "markdown",
   "id": "464193ae",
   "metadata": {},
   "source": [
    "## Backward Propagation"
   ]
  },
  {
   "cell_type": "code",
   "execution_count": 161,
   "id": "1870bb70",
   "metadata": {},
   "outputs": [],
   "source": [
    "dh1_dw1 = x1.value\n",
    "dh1_dw2 = x2.value\n",
    "dh2_dw3 = x1.value\n",
    "dh2_dw4 = x2.value"
   ]
  },
  {
   "cell_type": "code",
   "execution_count": 162,
   "id": "7ab7f3b1",
   "metadata": {},
   "outputs": [],
   "source": [
    "dh1_out_dw1 = h1.value * (1 - h1.value) * dh1_dw1\n",
    "dh1_out_dw2 = h1.value * (1 - h1.value) * dh1_dw2\n",
    "\n",
    "dh2_out_dw3 = h2.value * (1 - h2.value) * dh2_dw3\n",
    "dh2_out_dw4 = h2.value * (1 - h2.value) * dh2_dw4"
   ]
  },
  {
   "cell_type": "code",
   "execution_count": 163,
   "id": "34ce1367",
   "metadata": {},
   "outputs": [],
   "source": [
    "do1_dw1 = o1.weights[0] * dh1_out_dw1\n",
    "do1_dw2 = o1.weights[0] * dh1_out_dw2\n",
    "do1_dw3 = o1.weights[1] * dh1_out_dw1\n",
    "do1_dw4 = o1.weights[1] * dh1_out_dw2\n",
    "\n",
    "do2_dw1 = o2.weights[0] * dh2_out_dw3\n",
    "do2_dw2 = o2.weights[0] * dh2_out_dw4\n",
    "do2_dw3 = o2.weights[1] * dh2_out_dw3\n",
    "do2_dw4 = o2.weights[1] * dh2_out_dw4"
   ]
  },
  {
   "cell_type": "code",
   "execution_count": 164,
   "id": "97cce88a",
   "metadata": {},
   "outputs": [],
   "source": [
    "do1_out_dw1 = o1.value * (1 - o1.value) * do1_dw1\n",
    "do1_out_dw2 = o1.value * (1 - o1.value) * do1_dw2\n",
    "do1_out_dw3 = o1.value * (1 - o1.value) * do1_dw3\n",
    "do1_out_dw4 = o1.value * (1 - o1.value) * do1_dw4\n",
    "\n",
    "do2_out_dw1 = o2.value * (1 - o2.value) * do2_dw1\n",
    "do2_out_dw2 = o2.value * (1 - o2.value) * do2_dw2\n",
    "do2_out_dw3 = o2.value * (1 - o2.value) * do2_dw3\n",
    "do2_out_dw4 = o2.value * (1 - o2.value) * do2_dw4"
   ]
  },
  {
   "cell_type": "code",
   "execution_count": 165,
   "id": "03906935",
   "metadata": {},
   "outputs": [],
   "source": [
    "do1_error_dw1 = -(o1.target - o1.value) * do1_out_dw1\n",
    "do1_error_dw2 = -(o1.target - o1.value) * do1_out_dw2\n",
    "do1_error_dw3 = -(o1.target - o1.value) * do1_out_dw3\n",
    "do1_error_dw4 = -(o1.target - o1.value) * do1_out_dw4\n",
    "\n",
    "do2_error_dw1 = -(o2.target - o2.value) * do2_out_dw1\n",
    "do2_error_dw2 = -(o2.target - o2.value) * do2_out_dw2\n",
    "do2_error_dw3 = -(o2.target - o2.value) * do2_out_dw3\n",
    "do2_error_dw4 = -(o2.target - o2.value) * do2_out_dw4"
   ]
  },
  {
   "cell_type": "code",
   "execution_count": 166,
   "id": "de203dab",
   "metadata": {},
   "outputs": [],
   "source": [
    "dtotal_error_dw1 = do1_error_dw1 + do2_error_dw1\n",
    "dtotal_error_dw2 = do1_error_dw2 + do2_error_dw2\n",
    "dtotal_error_dw3 = do1_error_dw3 + do2_error_dw3\n",
    "dtotal_error_dw4 = do1_error_dw4 + do2_error_dw4"
   ]
  },
  {
   "cell_type": "code",
   "execution_count": 167,
   "id": "97bea650",
   "metadata": {},
   "outputs": [],
   "source": [
    "dtotal_error_dw5 = -(o1.target - o1.value) * o1.value * (1 - o1.value) * h1.value\n",
    "dtotal_error_dw6 = -(o1.target - o1.value) * o1.value * (1 - o1.value) * h2.value\n",
    "\n",
    "dtotal_error_dw7 = -(o2.target - o2.value) * o2.value * (1 - o2.value) * h1.value\n",
    "dtotal_error_dw8 = -(o2.target - o2.value) * o2.value * (1 - o2.value) * h2.value"
   ]
  },
  {
   "cell_type": "code",
   "execution_count": 168,
   "id": "6f269c2b",
   "metadata": {},
   "outputs": [],
   "source": [
    "learning_rate = 0.5"
   ]
  },
  {
   "cell_type": "code",
   "execution_count": 169,
   "id": "6566a2a1",
   "metadata": {},
   "outputs": [
    {
     "data": {
      "text/plain": [
       "0.35891647971788465"
      ]
     },
     "execution_count": 169,
     "metadata": {},
     "output_type": "execute_result"
    }
   ],
   "source": [
    "o1.weights[0] - learning_rate * dtotal_error_dw5"
   ]
  }
 ],
 "metadata": {
  "kernelspec": {
   "display_name": "Python 3",
   "language": "python",
   "name": "python3"
  },
  "language_info": {
   "codemirror_mode": {
    "name": "ipython",
    "version": 3
   },
   "file_extension": ".py",
   "mimetype": "text/x-python",
   "name": "python",
   "nbconvert_exporter": "python",
   "pygments_lexer": "ipython3",
   "version": "3.11.9"
  }
 },
 "nbformat": 4,
 "nbformat_minor": 5
}
