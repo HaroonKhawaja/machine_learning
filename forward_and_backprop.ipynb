{
 "cells": [
  {
   "cell_type": "markdown",
   "id": "ae0f9408",
   "metadata": {},
   "source": [
    "# Forward and Backprop Example Notebook"
   ]
  },
  {
   "cell_type": "markdown",
   "id": "f44cbe64",
   "metadata": {},
   "source": [
    "<p float=\"left\">\n",
    "    <img src=\"./math_derivations/main.png\" width=\"600\" height=\"300\">\n",
    "    <img src=\"./math_derivations/values.png\" height=\"300\">\n",
    "</p>"
   ]
  },
  {
   "cell_type": "markdown",
   "id": "6b48c186",
   "metadata": {},
   "source": [
    "## Forward Propagation"
   ]
  },
  {
   "cell_type": "markdown",
   "id": "0a1903f9",
   "metadata": {},
   "source": [
    "<img src=\"./math_derivations/equations.png\" width=\"600\">\n"
   ]
  },
  {
   "cell_type": "code",
   "execution_count": 23,
   "id": "c968c901",
   "metadata": {},
   "outputs": [],
   "source": [
    "import math\n",
    "\n",
    "def sigmoid(x):\n",
    "    return 1 / (1 + math.exp(-x))\n",
    "\n",
    "def mse(target, output):\n",
    "    return (target - output) ** 2 / 2\n",
    "\n",
    "class Neuron:\n",
    "    def __init__(self, name, value=0, weights=[], activation_fn=sigmoid):\n",
    "        self.name = name\n",
    "        self.value = value\n",
    "        self.weights = weights\n",
    "        self.input_value = None\n",
    "        self.activation_fn = activation_fn\n",
    "    \n",
    "    def compute_input_value(self, inputs, bias=None):\n",
    "        if len(inputs) != len(self.weights):\n",
    "            raise ValueError('Incorrect input shape')\n",
    "        \n",
    "        input_sum = 0\n",
    "        for inp, w in zip(inputs, self.weights):\n",
    "            input_sum += inp.value * w\n",
    "        \n",
    "        if bias:\n",
    "            input_sum += bias.value * bias.weights[0]\n",
    "        \n",
    "        self.input_value = input_sum\n",
    "\n",
    "    def compute_output_value(self):\n",
    "        self.value = self.activation_fn(self.input_value)\n",
    "        \n",
    "    def compute_error(self, target):\n",
    "        self.target = target\n",
    "        self.error_value = mse(target, self.value)\n",
    "\n",
    "    def update_weights(self, gradients, learning_rate):\n",
    "        if len(gradients) != len(self.weights):\n",
    "            raise ValueError('Number of gradients do not match the number of weights')\n",
    "        \n",
    "        for i in range(len(gradients)):\n",
    "            self.weights[i] -= learning_rate * gradients[i]\n",
    "\n"
   ]
  },
  {
   "cell_type": "code",
   "execution_count": 24,
   "id": "5c9c4ffb",
   "metadata": {},
   "outputs": [],
   "source": [
    "x1 = Neuron('input_1', value=0.05)\n",
    "x2 = Neuron('input_2', value=0.10)\n",
    "\n",
    "h1 = Neuron('h1', weights=[0.15, 0.20])\n",
    "h2 = Neuron('h2', weights=[0.25, 0.30])\n",
    "\n",
    "o1 = Neuron('o1', weights=[0.40, 0.45])\n",
    "o2 = Neuron('o2', weights=[0.50, 0.55])\n",
    "\n",
    "b1 = Neuron('b1', value=1, weights=[0.35])\n",
    "b2 = Neuron('b2', value=1, weights=[0.60])"
   ]
  },
  {
   "cell_type": "markdown",
   "id": "9cac11d9",
   "metadata": {},
   "source": [
    "<img src=\"./math_derivations/fh.png\" width=\"600\">\n"
   ]
  },
  {
   "cell_type": "code",
   "execution_count": 25,
   "id": "08c02631",
   "metadata": {},
   "outputs": [
    {
     "name": "stdout",
     "output_type": "stream",
     "text": [
      "h1.input_value = 0.3775\n",
      "h2.input_value = 0.39249999999999996\n"
     ]
    }
   ],
   "source": [
    "h1.compute_input_value([x1, x2], bias=b1)\n",
    "h2.compute_input_value([x1, x2], bias=b1)\n",
    "print(f\"{h1.input_value = }\")\n",
    "print(f\"{h2.input_value = }\")"
   ]
  },
  {
   "cell_type": "markdown",
   "id": "cf21439f",
   "metadata": {},
   "source": [
    "<img src=\"./math_derivations/fh_out.png\" width=\"600\">\n"
   ]
  },
  {
   "cell_type": "code",
   "execution_count": 26,
   "id": "b42a55dc",
   "metadata": {},
   "outputs": [
    {
     "name": "stdout",
     "output_type": "stream",
     "text": [
      "h1.value = 0.5932699921071872\n",
      "h2.value = 0.596884378259767\n"
     ]
    }
   ],
   "source": [
    "h1.compute_output_value()\n",
    "h2.compute_output_value()\n",
    "print(f\"{h1.value = }\")\n",
    "print(f\"{h2.value = }\")"
   ]
  },
  {
   "cell_type": "markdown",
   "id": "5043e442",
   "metadata": {},
   "source": [
    "<img src=\"./math_derivations/fo.png\" width=\"600\">\n"
   ]
  },
  {
   "cell_type": "code",
   "execution_count": 27,
   "id": "252f78a7",
   "metadata": {},
   "outputs": [
    {
     "name": "stdout",
     "output_type": "stream",
     "text": [
      "o1.input_value = 1.10590596705977\n",
      "o2.input_value = 1.2249214040964653\n"
     ]
    }
   ],
   "source": [
    "o1.compute_input_value([h1, h2], bias=b2)\n",
    "o2.compute_input_value([h1, h2], bias=b2)\n",
    "print(f\"{o1.input_value = }\")\n",
    "print(f\"{o2.input_value = }\")"
   ]
  },
  {
   "cell_type": "code",
   "execution_count": 28,
   "id": "cc02f4dc",
   "metadata": {},
   "outputs": [
    {
     "name": "stdout",
     "output_type": "stream",
     "text": [
      "o1.value = 0.7513650695523157\n",
      "o2.value = 0.7729284653214625\n"
     ]
    }
   ],
   "source": [
    "o1.compute_output_value()\n",
    "o2.compute_output_value()\n",
    "print(f\"{o1.value = }\")\n",
    "print(f\"{o2.value = }\")"
   ]
  },
  {
   "cell_type": "markdown",
   "id": "03ae0f62",
   "metadata": {},
   "source": [
    "<img src=\"./math_derivations/error.png\" width=\"600\">\n"
   ]
  },
  {
   "cell_type": "code",
   "execution_count": 29,
   "id": "b6cb3458",
   "metadata": {},
   "outputs": [
    {
     "name": "stdout",
     "output_type": "stream",
     "text": [
      "o1.error_value = 0.274811083176155\n",
      "o2.error_value = 0.023560025583847746\n",
      "total_error = 0.2983711087600027\n"
     ]
    }
   ],
   "source": [
    "o1.compute_error(0.01)\n",
    "o2.compute_error(0.99)\n",
    "total_error = o1.error_value + o2.error_value\n",
    "\n",
    "print(f\"{o1.error_value = }\")\n",
    "print(f\"{o2.error_value = }\")\n",
    "print(f\"{total_error = }\")"
   ]
  },
  {
   "cell_type": "markdown",
   "id": "464193ae",
   "metadata": {},
   "source": [
    "## Backward Propagation"
   ]
  },
  {
   "cell_type": "code",
   "execution_count": 30,
   "id": "758379ed",
   "metadata": {},
   "outputs": [],
   "source": [
    "learning_rate = 0.5"
   ]
  },
  {
   "cell_type": "markdown",
   "id": "167d46ab",
   "metadata": {},
   "source": [
    "<img src=\"./math_derivations/d1.png\" width=\"600\">"
   ]
  },
  {
   "cell_type": "code",
   "execution_count": 31,
   "id": "1870bb70",
   "metadata": {},
   "outputs": [],
   "source": [
    "dh1_dw1 = x1.value\n",
    "dh1_dw2 = x2.value\n",
    "dh2_dw3 = x1.value\n",
    "dh2_dw4 = x2.value"
   ]
  },
  {
   "cell_type": "markdown",
   "id": "20adcdd8",
   "metadata": {},
   "source": [
    "<img src=\"./math_derivations/d2.png\" width=\"600\" width=\"900\"/>"
   ]
  },
  {
   "cell_type": "code",
   "execution_count": 32,
   "id": "7ab7f3b1",
   "metadata": {},
   "outputs": [],
   "source": [
    "dh1_out_dw1 = h1.value * (1 - h1.value) * dh1_dw1\n",
    "dh1_out_dw2 = h1.value * (1 - h1.value) * dh1_dw2\n",
    "\n",
    "dh2_out_dw3 = h2.value * (1 - h2.value) * dh2_dw3\n",
    "dh2_out_dw4 = h2.value * (1 - h2.value) * dh2_dw4"
   ]
  },
  {
   "cell_type": "markdown",
   "id": "9f7b2ee8",
   "metadata": {},
   "source": [
    "<p float=\"left\">\n",
    "  <img src=\"./math_derivations/d3.png\" width=\"600\" height=\"600\"/>\n",
    "  <img src=\"./math_derivations/d4.png\" width=\"600\" height=\"600\"/>\n",
    "</p>"
   ]
  },
  {
   "cell_type": "code",
   "execution_count": 33,
   "id": "34ce1367",
   "metadata": {},
   "outputs": [],
   "source": [
    "do1_dw1 = o1.weights[0] * dh1_out_dw1\n",
    "do1_dw2 = o1.weights[0] * dh1_out_dw2\n",
    "do1_dw3 = o1.weights[1] * dh2_out_dw3\n",
    "do1_dw4 = o1.weights[1] * dh2_out_dw4\n",
    "\n",
    "do2_dw1 = o2.weights[0] * dh1_out_dw1\n",
    "do2_dw2 = o2.weights[0] * dh1_out_dw2\n",
    "do2_dw3 = o2.weights[1] * dh2_out_dw3\n",
    "do2_dw4 = o2.weights[1] * dh2_out_dw4"
   ]
  },
  {
   "cell_type": "markdown",
   "id": "60da2772",
   "metadata": {},
   "source": [
    "<img src=\"./math_derivations/d5.png\" width=\"600\" height=\"600\">"
   ]
  },
  {
   "cell_type": "code",
   "execution_count": 34,
   "id": "97cce88a",
   "metadata": {},
   "outputs": [],
   "source": [
    "do1_out_dw1 = o1.value * (1 - o1.value) * do1_dw1\n",
    "do1_out_dw2 = o1.value * (1 - o1.value) * do1_dw2\n",
    "do1_out_dw3 = o1.value * (1 - o1.value) * do1_dw3\n",
    "do1_out_dw4 = o1.value * (1 - o1.value) * do1_dw4\n",
    "\n",
    "do2_out_dw1 = o2.value * (1 - o2.value) * do2_dw1\n",
    "do2_out_dw2 = o2.value * (1 - o2.value) * do2_dw2\n",
    "do2_out_dw3 = o2.value * (1 - o2.value) * do2_dw3\n",
    "do2_out_dw4 = o2.value * (1 - o2.value) * do2_dw4"
   ]
  },
  {
   "cell_type": "markdown",
   "id": "27831352",
   "metadata": {},
   "source": [
    "<img src=\"./math_derivations/d6.png\" width=\"600\" height=\"600\">"
   ]
  },
  {
   "cell_type": "code",
   "execution_count": 35,
   "id": "03906935",
   "metadata": {},
   "outputs": [],
   "source": [
    "do1_error_dw1 = -(o1.target - o1.value) * do1_out_dw1\n",
    "do1_error_dw2 = -(o1.target - o1.value) * do1_out_dw2\n",
    "do1_error_dw3 = -(o1.target - o1.value) * do1_out_dw3\n",
    "do1_error_dw4 = -(o1.target - o1.value) * do1_out_dw4\n",
    "\n",
    "do2_error_dw1 = -(o2.target - o2.value) * do2_out_dw1\n",
    "do2_error_dw2 = -(o2.target - o2.value) * do2_out_dw2\n",
    "do2_error_dw3 = -(o2.target - o2.value) * do2_out_dw3\n",
    "do2_error_dw4 = -(o2.target - o2.value) * do2_out_dw4"
   ]
  },
  {
   "cell_type": "markdown",
   "id": "817a2231",
   "metadata": {},
   "source": [
    "<img src=\"./math_derivations/d7.png\" width=\"600\" >"
   ]
  },
  {
   "cell_type": "code",
   "execution_count": 36,
   "id": "de203dab",
   "metadata": {},
   "outputs": [],
   "source": [
    "dtotal_error_dw1 = do1_error_dw1 + do2_error_dw1\n",
    "dtotal_error_dw2 = do1_error_dw2 + do2_error_dw2\n",
    "dtotal_error_dw3 = do1_error_dw3 + do2_error_dw3\n",
    "dtotal_error_dw4 = do1_error_dw4 + do2_error_dw4"
   ]
  },
  {
   "cell_type": "markdown",
   "id": "2885bb07",
   "metadata": {},
   "source": [
    "<img src=\"./math_derivations/d8.png\" width=\"600\" >"
   ]
  },
  {
   "cell_type": "code",
   "execution_count": 37,
   "id": "97bea650",
   "metadata": {},
   "outputs": [],
   "source": [
    "dtotal_error_dw5 = -(o1.target - o1.value) * o1.value * (1 - o1.value) * h1.value\n",
    "dtotal_error_dw6 = -(o1.target - o1.value) * o1.value * (1 - o1.value) * h2.value\n",
    "\n",
    "dtotal_error_dw7 = -(o2.target - o2.value) * o2.value * (1 - o2.value) * h1.value\n",
    "dtotal_error_dw8 = -(o2.target - o2.value) * o2.value * (1 - o2.value) * h2.value"
   ]
  },
  {
   "cell_type": "markdown",
   "id": "673f3119",
   "metadata": {},
   "source": [
    "### Gradient Update"
   ]
  },
  {
   "cell_type": "code",
   "execution_count": 38,
   "id": "f9fe4383",
   "metadata": {},
   "outputs": [
    {
     "name": "stdout",
     "output_type": "stream",
     "text": [
      "o1.weights = [0.35891647971788465, 0.4086661860762334]\n",
      "o2.weights = [0.5113012702387375, 0.5613701211079891]\n"
     ]
    }
   ],
   "source": [
    "o1.update_weights([dtotal_error_dw5, dtotal_error_dw6], learning_rate)\n",
    "o2.update_weights([dtotal_error_dw7, dtotal_error_dw8], learning_rate)\n",
    "\n",
    "print(f\"{o1.weights = }\")\n",
    "print(f\"{o2.weights = }\")"
   ]
  },
  {
   "cell_type": "code",
   "execution_count": 39,
   "id": "6566a2a1",
   "metadata": {},
   "outputs": [
    {
     "name": "stdout",
     "output_type": "stream",
     "text": [
      "h1.weights = [0.1497807161327628, 0.19956143226552567]\n",
      "h2.weights = [0.24975114363236958, 0.29950228726473915]\n"
     ]
    }
   ],
   "source": [
    "h1.update_weights([dtotal_error_dw1, dtotal_error_dw2], learning_rate)\n",
    "h2.update_weights([dtotal_error_dw3, dtotal_error_dw4], learning_rate)\n",
    "\n",
    "print(f\"{h1.weights = }\")\n",
    "print(f\"{h2.weights = }\")"
   ]
  },
  {
   "cell_type": "markdown",
   "id": "80f4ac3c",
   "metadata": {},
   "source": [
    "## Putting it all together"
   ]
  },
  {
   "cell_type": "code",
   "execution_count": 40,
   "id": "0ed64eb7",
   "metadata": {},
   "outputs": [],
   "source": [
    "def forward(inputs, hidden_states, outputs, biases, target):\n",
    "    if len(target) != len(outputs):\n",
    "        raise ValueError(\"Target shape does not match output shape\")\n",
    "    \n",
    "    for h in hidden_states:\n",
    "        h.compute_input_value(inputs, biases[0])\n",
    "        h.compute_output_value()\n",
    "    \n",
    "    total_error = 0\n",
    "    for o, t in zip(outputs, target):\n",
    "        o.compute_input_value(hidden_states, biases[1])\n",
    "        o.compute_output_value()\n",
    "        o.compute_error(t)\n",
    "        total_error += o.error_value\n",
    "    \n",
    "    return total_error\n",
    "\n",
    "def backprop(inputs, hidden_states, outputs, learning_rate):\n",
    "    dE_dws = []\n",
    "\n",
    "    for i, h in enumerate(hidden_states):\n",
    "        for x in inputs:\n",
    "            dE_dw = 0\n",
    "            for o in outputs:\n",
    "                dE_dw += -(o.target - o.value) * o.weights[i] * o.value * (1 - o.value) * x.value * h.value * (1 - h.value)\n",
    "            dE_dws.append(dE_dw)\n",
    "\n",
    "    for o in outputs:\n",
    "        for h in hidden_states:\n",
    "            dE_dw = -(o.target - o.value) * o.value * (1 - o.value) * h.value\n",
    "            dE_dws.append(dE_dw)\n",
    "\n",
    "    for h in hidden_states:\n",
    "        h.update_weights(dE_dws[:len(h.weights)], learning_rate)\n",
    "        dE_dws = dE_dws[len(h.weights):]\n",
    "    \n",
    "    for o in outputs:\n",
    "        o.update_weights(dE_dws[:len(o.weights)], learning_rate)\n",
    "        dE_dws = dE_dws[len(o.weights):]"
   ]
  },
  {
   "cell_type": "code",
   "execution_count": 41,
   "id": "0db55391",
   "metadata": {},
   "outputs": [],
   "source": [
    "x1 = Neuron('input_1', value=0.05)\n",
    "x2 = Neuron('input_2', value=0.10)\n",
    "\n",
    "h1 = Neuron('h1', weights=[0.15, 0.20])\n",
    "h2 = Neuron('h2', weights=[0.25, 0.30])\n",
    "\n",
    "o1 = Neuron('o1', weights=[0.40, 0.45])\n",
    "o2 = Neuron('o2', weights=[0.50, 0.55])\n",
    "\n",
    "b1 = Neuron('b1', value=1, weights=[0.35])\n",
    "b2 = Neuron('b2', value=1, weights=[0.60])"
   ]
  },
  {
   "cell_type": "code",
   "execution_count": 42,
   "id": "1923e3b6",
   "metadata": {},
   "outputs": [
    {
     "name": "stderr",
     "output_type": "stream",
     "text": [
      "100%|██████████| 1000/1000 [00:01<00:00, 808.18it/s, Loss=0.000356485068170]\n"
     ]
    }
   ],
   "source": [
    "from tqdm import tqdm\n",
    "\n",
    "inputs = [x1, x2]\n",
    "hidden_states = [h1, h2]\n",
    "outputs = [o1, o2]\n",
    "biases = [b1, b2]\n",
    "target = [0, 1]\n",
    "\n",
    "learning_rate =  2\n",
    "\n",
    "def train(epochs):\n",
    "    losses = []\n",
    "    batch = tqdm(range(epochs))\n",
    "    for i in batch:\n",
    "        loss = forward(inputs, hidden_states, outputs, biases, target)\n",
    "        backprop(inputs, hidden_states, outputs, learning_rate)\n",
    "        losses.append(loss)\n",
    "        batch.set_postfix({\"Loss\": f\"{loss:.15f}\"})\n",
    "\n",
    "    return losses\n",
    "\n",
    "losses = train(1000)"
   ]
  },
  {
   "cell_type": "code",
   "execution_count": 43,
   "id": "4311cfa5",
   "metadata": {},
   "outputs": [
    {
     "name": "stdout",
     "output_type": "stream",
     "text": [
      "outputs[0].value = 0.018914066818667655\n",
      "outputs[1].value = 0.9811525011548469\n"
     ]
    }
   ],
   "source": [
    "print(f\"{outputs[0].value = }\")\n",
    "print(f\"{outputs[1].value = }\")"
   ]
  },
  {
   "cell_type": "code",
   "execution_count": 44,
   "id": "024c6547",
   "metadata": {},
   "outputs": [
    {
     "data": {
      "image/png": "[encoded data removed]",
      "text/plain": [
       "<Figure size 640x480 with 1 Axes>"
      ]
     },
     "metadata": {},
     "output_type": "display_data"
    }
   ],
   "source": [
    "import matplotlib.pyplot as plt\n",
    "\n",
    "plt.plot(losses)\n",
    "plt.xlabel(\"Epoch\")\n",
    "plt.ylabel(\"Loss\")\n",
    "plt.title(\"Loss over Time\")\n",
    "plt.grid(True)\n",
    "plt.show()"
   ]
  }
 ],
 "metadata": {
  "kernelspec": {
   "display_name": "Python 3",
   "language": "python",
   "name": "python3"
  },
  "language_info": {
   "codemirror_mode": {
    "name": "ipython",
    "version": 3
   },
   "file_extension": ".py",
   "mimetype": "text/x-python",
   "name": "python",
   "nbconvert_exporter": "python",
   "pygments_lexer": "ipython3",
   "version": "3.11.9"
  }
 },
 "nbformat": 4,
 "nbformat_minor": 5
}
